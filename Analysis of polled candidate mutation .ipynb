{
 "cells": [
  {
   "cell_type": "markdown",
   "metadata": {},
   "source": [
    "&emsp;&emsp;&emsp;&emsp;**<font size=6 face=\"楷体\">使用机器学习模型预测蜀宣花无角牛以及筛选相关突变位点</font>**"
   ]
  },
  {
   "cell_type": "markdown",
   "metadata": {},
   "source": [
    "**<font size=5 face=\"宋体\">(一)、读取与预处理</font>**"
   ]
  },
  {
   "cell_type": "markdown",
   "metadata": {},
   "source": [
    "&ensp;&ensp;**<font color=red size=4 face=\"宋体\">首先我们导入相应的数据处理包</font>**"
   ]
  },
  {
   "cell_type": "code",
   "execution_count": 1,
   "metadata": {
    "collapsed": true
   },
   "outputs": [],
   "source": [
    "import pandas as pd\n",
    "import numpy as np\n",
    "import matplotlib.pyplot as plt\n",
    "import seaborn as sns\n",
    "import missingno as misn\n",
    "%matplotlib inline"
   ]
  },
  {
   "cell_type": "markdown",
   "metadata": {},
   "source": [
    "&ensp;&ensp;**<font color=red size=4 face=\"宋体\">读取数据</font>**"
   ]
  },
  {
   "cell_type": "code",
   "execution_count": 2,
   "metadata": {},
   "outputs": [
    {
     "data": {
      "text/html": [
       "<div>\n",
       "<style scoped>\n",
       "    .dataframe tbody tr th:only-of-type {\n",
       "        vertical-align: middle;\n",
       "    }\n",
       "\n",
       "    .dataframe tbody tr th {\n",
       "        vertical-align: top;\n",
       "    }\n",
       "\n",
       "    .dataframe thead th {\n",
       "        text-align: right;\n",
       "    }\n",
       "</style>\n",
       "<table border=\"1\" class=\"dataframe\">\n",
       "  <thead>\n",
       "    <tr style=\"text-align: right;\">\n",
       "      <th></th>\n",
       "      <th>Sample IDs</th>\n",
       "      <th>Horn</th>\n",
       "      <th>Month</th>\n",
       "      <th>Sex</th>\n",
       "      <th>P202ID</th>\n",
       "      <th>P80kbID</th>\n",
       "      <th>P219ID</th>\n",
       "      <th>P5ID</th>\n",
       "      <th>PG1855898A</th>\n",
       "      <th>PC1768587A</th>\n",
       "      <th>PG1654405A</th>\n",
       "      <th>D-loop</th>\n",
       "    </tr>\n",
       "  </thead>\n",
       "  <tbody>\n",
       "    <tr>\n",
       "      <th>0</th>\n",
       "      <td>P1023</td>\n",
       "      <td>Polled</td>\n",
       "      <td>36</td>\n",
       "      <td>Female</td>\n",
       "      <td>W/M</td>\n",
       "      <td>W/W</td>\n",
       "      <td>W/W</td>\n",
       "      <td>W/W</td>\n",
       "      <td>G/G</td>\n",
       "      <td>C/C</td>\n",
       "      <td>G/G</td>\n",
       "      <td>B. taurus</td>\n",
       "    </tr>\n",
       "    <tr>\n",
       "      <th>1</th>\n",
       "      <td>P1170</td>\n",
       "      <td>Polled</td>\n",
       "      <td>6</td>\n",
       "      <td>Male</td>\n",
       "      <td>W/M</td>\n",
       "      <td>W/W</td>\n",
       "      <td>W/W</td>\n",
       "      <td>W/W</td>\n",
       "      <td>G/G</td>\n",
       "      <td>C/C</td>\n",
       "      <td>G/G</td>\n",
       "      <td>B. taurus</td>\n",
       "    </tr>\n",
       "    <tr>\n",
       "      <th>2</th>\n",
       "      <td>P1190</td>\n",
       "      <td>Polled</td>\n",
       "      <td>5</td>\n",
       "      <td>Male</td>\n",
       "      <td>W/M</td>\n",
       "      <td>W/W</td>\n",
       "      <td>W/W</td>\n",
       "      <td>W/W</td>\n",
       "      <td>G/G</td>\n",
       "      <td>C/C</td>\n",
       "      <td>G/G</td>\n",
       "      <td>B. indicus</td>\n",
       "    </tr>\n",
       "    <tr>\n",
       "      <th>3</th>\n",
       "      <td>P1025</td>\n",
       "      <td>Polled</td>\n",
       "      <td>60</td>\n",
       "      <td>Female</td>\n",
       "      <td>W/W</td>\n",
       "      <td>W/W</td>\n",
       "      <td>W/M</td>\n",
       "      <td>W/W</td>\n",
       "      <td>G/G</td>\n",
       "      <td>C/C</td>\n",
       "      <td>G/G</td>\n",
       "      <td>B. taurus</td>\n",
       "    </tr>\n",
       "    <tr>\n",
       "      <th>4</th>\n",
       "      <td>P1137</td>\n",
       "      <td>Polled</td>\n",
       "      <td>12</td>\n",
       "      <td>Female</td>\n",
       "      <td>W/M</td>\n",
       "      <td>W/W</td>\n",
       "      <td>W/W</td>\n",
       "      <td>W/W</td>\n",
       "      <td>G/G</td>\n",
       "      <td>C/C</td>\n",
       "      <td>G/G</td>\n",
       "      <td>B. taurus</td>\n",
       "    </tr>\n",
       "  </tbody>\n",
       "</table>\n",
       "</div>"
      ],
      "text/plain": [
       "  Sample IDs    Horn Month     Sex P202ID P80kbID P219ID P5ID PG1855898A  \\\n",
       "0      P1023  Polled    36  Female    W/M     W/W    W/W  W/W        G/G   \n",
       "1      P1170  Polled     6    Male    W/M     W/W    W/W  W/W        G/G   \n",
       "2      P1190  Polled     5    Male    W/M     W/W    W/W  W/W        G/G   \n",
       "3      P1025  Polled    60  Female    W/W     W/W    W/M  W/W        G/G   \n",
       "4      P1137  Polled    12  Female    W/M     W/W    W/W  W/W        G/G   \n",
       "\n",
       "  PC1768587A PG1654405A      D-loop  \n",
       "0        C/C        G/G   B. taurus  \n",
       "1        C/C        G/G   B. taurus  \n",
       "2        C/C        G/G  B. indicus  \n",
       "3        C/C        G/G   B. taurus  \n",
       "4        C/C        G/G   B. taurus  "
      ]
     },
     "execution_count": 2,
     "metadata": {},
     "output_type": "execute_result"
    }
   ],
   "source": [
    "data = pd.read_csv(\"polled_mutation.csv\", encoding=\"GB2312\")\n",
    "data.head()"
   ]
  },
  {
   "cell_type": "markdown",
   "metadata": {},
   "source": [
    "&ensp;&ensp;**<font color=red size=4 face=\"宋体\">分析特征类型</font>**"
   ]
  },
  {
   "cell_type": "code",
   "execution_count": 3,
   "metadata": {},
   "outputs": [
    {
     "name": "stdout",
     "output_type": "stream",
     "text": [
      "<class 'pandas.core.frame.DataFrame'>\n",
      "RangeIndex: 64 entries, 0 to 63\n",
      "Data columns (total 12 columns):\n",
      "Sample IDs    64 non-null object\n",
      "Horn          64 non-null object\n",
      "Month         64 non-null object\n",
      "Sex           64 non-null object\n",
      "P202ID        64 non-null object\n",
      "P80kbID       64 non-null object\n",
      "P219ID        64 non-null object\n",
      "P5ID          64 non-null object\n",
      "PG1855898A    64 non-null object\n",
      "PC1768587A    64 non-null object\n",
      "PG1654405A    64 non-null object\n",
      "D-loop        64 non-null object\n",
      "dtypes: object(12)\n",
      "memory usage: 6.1+ KB\n"
     ]
    }
   ],
   "source": [
    "data.info()"
   ]
  },
  {
   "cell_type": "markdown",
   "metadata": {},
   "source": [
    "&ensp;&ensp;**<font size=3 face=\"宋体\">可以看出每一列特征都为object属性，也就是类别属性</font>**"
   ]
  },
  {
   "cell_type": "markdown",
   "metadata": {},
   "source": [
    "&ensp;&ensp;**<font color=red size=4 face=\"宋体\">分析数据有无缺失</font>**"
   ]
  },
  {
   "cell_type": "code",
   "execution_count": 4,
   "metadata": {},
   "outputs": [
    {
     "data": {
      "text/plain": [
       "<matplotlib.axes._subplots.AxesSubplot at 0x1f70cb32160>"
      ]
     },
     "execution_count": 4,
     "metadata": {},
     "output_type": "execute_result"
    },
    {
     "data": {
      "image/png": "[encoded data removed]",
      "text/plain": [
       "<Figure size 1800x720 with 2 Axes>"
      ]
     },
     "metadata": {},
     "output_type": "display_data"
    }
   ],
   "source": [
    "misn.matrix(data)"
   ]
  },
  {
   "cell_type": "markdown",
   "metadata": {},
   "source": [
    "&ensp;&ensp;**<font size=3 face=\"宋体\">数据完整，没有缺失</font>**"
   ]
  },
  {
   "cell_type": "markdown",
   "metadata": {},
   "source": [
    "&ensp;&ensp;**<font color=red size=4 face=\"宋体\">数据规模</font>**"
   ]
  },
  {
   "cell_type": "code",
   "execution_count": 5,
   "metadata": {},
   "outputs": [
    {
     "name": "stdout",
     "output_type": "stream",
     "text": [
      "数据一共有64个样本，12种特征\n"
     ]
    }
   ],
   "source": [
    "sample,feature = data.shape\n",
    "print(\"数据一共有%d个样本，%d种特征\" % (sample, feature))"
   ]
  },
  {
   "cell_type": "markdown",
   "metadata": {},
   "source": [
    "&ensp;&ensp;**<font color=red size=4 face=\"宋体\">去掉不相关特征</font>**"
   ]
  },
  {
   "cell_type": "code",
   "execution_count": 6,
   "metadata": {},
   "outputs": [
    {
     "data": {
      "text/html": [
       "<div>\n",
       "<style scoped>\n",
       "    .dataframe tbody tr th:only-of-type {\n",
       "        vertical-align: middle;\n",
       "    }\n",
       "\n",
       "    .dataframe tbody tr th {\n",
       "        vertical-align: top;\n",
       "    }\n",
       "\n",
       "    .dataframe thead th {\n",
       "        text-align: right;\n",
       "    }\n",
       "</style>\n",
       "<table border=\"1\" class=\"dataframe\">\n",
       "  <thead>\n",
       "    <tr style=\"text-align: right;\">\n",
       "      <th></th>\n",
       "      <th>Horn</th>\n",
       "      <th>P202ID</th>\n",
       "      <th>P80kbID</th>\n",
       "      <th>P219ID</th>\n",
       "      <th>P5ID</th>\n",
       "      <th>PG1855898A</th>\n",
       "      <th>PC1768587A</th>\n",
       "      <th>PG1654405A</th>\n",
       "    </tr>\n",
       "  </thead>\n",
       "  <tbody>\n",
       "    <tr>\n",
       "      <th>0</th>\n",
       "      <td>Polled</td>\n",
       "      <td>W/M</td>\n",
       "      <td>W/W</td>\n",
       "      <td>W/W</td>\n",
       "      <td>W/W</td>\n",
       "      <td>G/G</td>\n",
       "      <td>C/C</td>\n",
       "      <td>G/G</td>\n",
       "    </tr>\n",
       "    <tr>\n",
       "      <th>1</th>\n",
       "      <td>Polled</td>\n",
       "      <td>W/M</td>\n",
       "      <td>W/W</td>\n",
       "      <td>W/W</td>\n",
       "      <td>W/W</td>\n",
       "      <td>G/G</td>\n",
       "      <td>C/C</td>\n",
       "      <td>G/G</td>\n",
       "    </tr>\n",
       "    <tr>\n",
       "      <th>2</th>\n",
       "      <td>Polled</td>\n",
       "      <td>W/M</td>\n",
       "      <td>W/W</td>\n",
       "      <td>W/W</td>\n",
       "      <td>W/W</td>\n",
       "      <td>G/G</td>\n",
       "      <td>C/C</td>\n",
       "      <td>G/G</td>\n",
       "    </tr>\n",
       "    <tr>\n",
       "      <th>3</th>\n",
       "      <td>Polled</td>\n",
       "      <td>W/W</td>\n",
       "      <td>W/W</td>\n",
       "      <td>W/M</td>\n",
       "      <td>W/W</td>\n",
       "      <td>G/G</td>\n",
       "      <td>C/C</td>\n",
       "      <td>G/G</td>\n",
       "    </tr>\n",
       "    <tr>\n",
       "      <th>4</th>\n",
       "      <td>Polled</td>\n",
       "      <td>W/M</td>\n",
       "      <td>W/W</td>\n",
       "      <td>W/W</td>\n",
       "      <td>W/W</td>\n",
       "      <td>G/G</td>\n",
       "      <td>C/C</td>\n",
       "      <td>G/G</td>\n",
       "    </tr>\n",
       "  </tbody>\n",
       "</table>\n",
       "</div>"
      ],
      "text/plain": [
       "     Horn P202ID P80kbID P219ID P5ID PG1855898A PC1768587A PG1654405A\n",
       "0  Polled    W/M     W/W    W/W  W/W        G/G        C/C        G/G\n",
       "1  Polled    W/M     W/W    W/W  W/W        G/G        C/C        G/G\n",
       "2  Polled    W/M     W/W    W/W  W/W        G/G        C/C        G/G\n",
       "3  Polled    W/W     W/W    W/M  W/W        G/G        C/C        G/G\n",
       "4  Polled    W/M     W/W    W/W  W/W        G/G        C/C        G/G"
      ]
     },
     "execution_count": 6,
     "metadata": {},
     "output_type": "execute_result"
    }
   ],
   "source": [
    "df = data.drop([\"Sample IDs\", \"Month\", \"Sex\", \"D-loop\"], axis=1)\n",
    "df.head()"
   ]
  },
  {
   "cell_type": "markdown",
   "metadata": {},
   "source": [
    "&ensp;&ensp;**<font color=red size=4 face=\"宋体\">处理类别</font>**<br>\n",
    "\n",
    "&ensp;&ensp;**<font size=3 face=\"宋体\">无角性状是常染色体显性遗传，W/M和M/M突变都是无角，所以，我们将他们归为一类</font>**"
   ]
  },
  {
   "cell_type": "code",
   "execution_count": 7,
   "metadata": {},
   "outputs": [
    {
     "data": {
      "text/plain": [
       "Horn          2\n",
       "P202ID        3\n",
       "P80kbID       2\n",
       "P219ID        2\n",
       "P5ID          2\n",
       "PG1855898A    1\n",
       "PC1768587A    2\n",
       "PG1654405A    3\n",
       "dtype: int64"
      ]
     },
     "execution_count": 7,
     "metadata": {},
     "output_type": "execute_result"
    }
   ],
   "source": [
    "df.nunique()"
   ]
  },
  {
   "cell_type": "code",
   "execution_count": 8,
   "metadata": {},
   "outputs": [
    {
     "data": {
      "text/plain": [
       "array(['W/M', 'W/W'], dtype=object)"
      ]
     },
     "execution_count": 8,
     "metadata": {},
     "output_type": "execute_result"
    }
   ],
   "source": [
    "df.loc[df[\"P202ID\"] == \"M/M\", \"P202ID\"] = \"W/M\"\n",
    "df.P202ID.unique()"
   ]
  },
  {
   "cell_type": "code",
   "execution_count": 9,
   "metadata": {},
   "outputs": [
    {
     "data": {
      "text/plain": [
       "array(['G/G', 'G/A'], dtype=object)"
      ]
     },
     "execution_count": 9,
     "metadata": {},
     "output_type": "execute_result"
    }
   ],
   "source": [
    "df.loc[df[\"PG1654405A\"] == \"A/A\", \"PG1654405A\"] = \"G/A\"\n",
    "df.PG1654405A.unique()"
   ]
  },
  {
   "cell_type": "code",
   "execution_count": 10,
   "metadata": {},
   "outputs": [
    {
     "data": {
      "text/plain": [
       "Horn          2\n",
       "P202ID        2\n",
       "P80kbID       2\n",
       "P219ID        2\n",
       "P5ID          2\n",
       "PG1855898A    1\n",
       "PC1768587A    2\n",
       "PG1654405A    2\n",
       "dtype: int64"
      ]
     },
     "execution_count": 10,
     "metadata": {},
     "output_type": "execute_result"
    }
   ],
   "source": [
    "df.nunique()"
   ]
  },
  {
   "cell_type": "markdown",
   "metadata": {},
   "source": [
    "&ensp;&ensp;**<font size=3 face=\"宋体\">这样所有三类的特征都变成了两类</font>**"
   ]
  },
  {
   "cell_type": "markdown",
   "metadata": {},
   "source": [
    "**<font size=5 face=\"宋体\">(二)、构建模型预处理</font>**"
   ]
  },
  {
   "cell_type": "markdown",
   "metadata": {},
   "source": [
    "&ensp;&ensp;**<font color=red size=4 face=\"宋体\">还是先导入相应的机器学习包</font>**"
   ]
  },
  {
   "cell_type": "code",
   "execution_count": 11,
   "metadata": {
    "collapsed": true
   },
   "outputs": [],
   "source": [
    "from sklearn.preprocessing import LabelEncoder\n",
    "from sklearn.linear_model import LogisticRegression\n",
    "from sklearn.model_selection import train_test_split, cross_val_score, StratifiedKFold, GridSearchCV\n",
    "from sklearn.metrics import roc_curve, auc, classification_report\n"
   ]
  },
  {
   "cell_type": "code",
   "execution_count": 12,
   "metadata": {},
   "outputs": [
    {
     "data": {
      "text/html": [
       "<div>\n",
       "<style scoped>\n",
       "    .dataframe tbody tr th:only-of-type {\n",
       "        vertical-align: middle;\n",
       "    }\n",
       "\n",
       "    .dataframe tbody tr th {\n",
       "        vertical-align: top;\n",
       "    }\n",
       "\n",
       "    .dataframe thead th {\n",
       "        text-align: right;\n",
       "    }\n",
       "</style>\n",
       "<table border=\"1\" class=\"dataframe\">\n",
       "  <thead>\n",
       "    <tr style=\"text-align: right;\">\n",
       "      <th></th>\n",
       "      <th>Horn</th>\n",
       "      <th>P202ID</th>\n",
       "      <th>P80kbID</th>\n",
       "      <th>P219ID</th>\n",
       "      <th>P5ID</th>\n",
       "      <th>PG1855898A</th>\n",
       "      <th>PC1768587A</th>\n",
       "      <th>PG1654405A</th>\n",
       "    </tr>\n",
       "  </thead>\n",
       "  <tbody>\n",
       "    <tr>\n",
       "      <th>0</th>\n",
       "      <td>Polled</td>\n",
       "      <td>W/M</td>\n",
       "      <td>W/W</td>\n",
       "      <td>W/W</td>\n",
       "      <td>W/W</td>\n",
       "      <td>G/G</td>\n",
       "      <td>C/C</td>\n",
       "      <td>G/G</td>\n",
       "    </tr>\n",
       "    <tr>\n",
       "      <th>1</th>\n",
       "      <td>Polled</td>\n",
       "      <td>W/M</td>\n",
       "      <td>W/W</td>\n",
       "      <td>W/W</td>\n",
       "      <td>W/W</td>\n",
       "      <td>G/G</td>\n",
       "      <td>C/C</td>\n",
       "      <td>G/G</td>\n",
       "    </tr>\n",
       "    <tr>\n",
       "      <th>2</th>\n",
       "      <td>Polled</td>\n",
       "      <td>W/M</td>\n",
       "      <td>W/W</td>\n",
       "      <td>W/W</td>\n",
       "      <td>W/W</td>\n",
       "      <td>G/G</td>\n",
       "      <td>C/C</td>\n",
       "      <td>G/G</td>\n",
       "    </tr>\n",
       "    <tr>\n",
       "      <th>3</th>\n",
       "      <td>Polled</td>\n",
       "      <td>W/W</td>\n",
       "      <td>W/W</td>\n",
       "      <td>W/M</td>\n",
       "      <td>W/W</td>\n",
       "      <td>G/G</td>\n",
       "      <td>C/C</td>\n",
       "      <td>G/G</td>\n",
       "    </tr>\n",
       "    <tr>\n",
       "      <th>4</th>\n",
       "      <td>Polled</td>\n",
       "      <td>W/M</td>\n",
       "      <td>W/W</td>\n",
       "      <td>W/W</td>\n",
       "      <td>W/W</td>\n",
       "      <td>G/G</td>\n",
       "      <td>C/C</td>\n",
       "      <td>G/G</td>\n",
       "    </tr>\n",
       "  </tbody>\n",
       "</table>\n",
       "</div>"
      ],
      "text/plain": [
       "     Horn P202ID P80kbID P219ID P5ID PG1855898A PC1768587A PG1654405A\n",
       "0  Polled    W/M     W/W    W/W  W/W        G/G        C/C        G/G\n",
       "1  Polled    W/M     W/W    W/W  W/W        G/G        C/C        G/G\n",
       "2  Polled    W/M     W/W    W/W  W/W        G/G        C/C        G/G\n",
       "3  Polled    W/W     W/W    W/M  W/W        G/G        C/C        G/G\n",
       "4  Polled    W/M     W/W    W/W  W/W        G/G        C/C        G/G"
      ]
     },
     "execution_count": 12,
     "metadata": {},
     "output_type": "execute_result"
    }
   ],
   "source": [
    "df.head()"
   ]
  },
  {
   "cell_type": "markdown",
   "metadata": {
    "collapsed": true
   },
   "source": [
    "&ensp;&ensp;**<font color=red size=4 face=\"宋体\">LabelEncoder编码</font>**"
   ]
  },
  {
   "cell_type": "code",
   "execution_count": 13,
   "metadata": {},
   "outputs": [
    {
     "data": {
      "text/html": [
       "<div>\n",
       "<style scoped>\n",
       "    .dataframe tbody tr th:only-of-type {\n",
       "        vertical-align: middle;\n",
       "    }\n",
       "\n",
       "    .dataframe tbody tr th {\n",
       "        vertical-align: top;\n",
       "    }\n",
       "\n",
       "    .dataframe thead th {\n",
       "        text-align: right;\n",
       "    }\n",
       "</style>\n",
       "<table border=\"1\" class=\"dataframe\">\n",
       "  <thead>\n",
       "    <tr style=\"text-align: right;\">\n",
       "      <th></th>\n",
       "      <th>Horn</th>\n",
       "      <th>P202ID</th>\n",
       "      <th>P80kbID</th>\n",
       "      <th>P219ID</th>\n",
       "      <th>P5ID</th>\n",
       "      <th>PG1855898A</th>\n",
       "      <th>PC1768587A</th>\n",
       "      <th>PG1654405A</th>\n",
       "    </tr>\n",
       "  </thead>\n",
       "  <tbody>\n",
       "    <tr>\n",
       "      <th>0</th>\n",
       "      <td>1</td>\n",
       "      <td>0</td>\n",
       "      <td>1</td>\n",
       "      <td>1</td>\n",
       "      <td>1</td>\n",
       "      <td>0</td>\n",
       "      <td>1</td>\n",
       "      <td>1</td>\n",
       "    </tr>\n",
       "    <tr>\n",
       "      <th>1</th>\n",
       "      <td>1</td>\n",
       "      <td>0</td>\n",
       "      <td>1</td>\n",
       "      <td>1</td>\n",
       "      <td>1</td>\n",
       "      <td>0</td>\n",
       "      <td>1</td>\n",
       "      <td>1</td>\n",
       "    </tr>\n",
       "    <tr>\n",
       "      <th>2</th>\n",
       "      <td>1</td>\n",
       "      <td>0</td>\n",
       "      <td>1</td>\n",
       "      <td>1</td>\n",
       "      <td>1</td>\n",
       "      <td>0</td>\n",
       "      <td>1</td>\n",
       "      <td>1</td>\n",
       "    </tr>\n",
       "    <tr>\n",
       "      <th>3</th>\n",
       "      <td>1</td>\n",
       "      <td>1</td>\n",
       "      <td>1</td>\n",
       "      <td>0</td>\n",
       "      <td>1</td>\n",
       "      <td>0</td>\n",
       "      <td>1</td>\n",
       "      <td>1</td>\n",
       "    </tr>\n",
       "    <tr>\n",
       "      <th>4</th>\n",
       "      <td>1</td>\n",
       "      <td>0</td>\n",
       "      <td>1</td>\n",
       "      <td>1</td>\n",
       "      <td>1</td>\n",
       "      <td>0</td>\n",
       "      <td>1</td>\n",
       "      <td>1</td>\n",
       "    </tr>\n",
       "  </tbody>\n",
       "</table>\n",
       "</div>"
      ],
      "text/plain": [
       "   Horn  P202ID  P80kbID  P219ID  P5ID  PG1855898A  PC1768587A  PG1654405A\n",
       "0     1       0        1       1     1           0           1           1\n",
       "1     1       0        1       1     1           0           1           1\n",
       "2     1       0        1       1     1           0           1           1\n",
       "3     1       1        1       0     1           0           1           1\n",
       "4     1       0        1       1     1           0           1           1"
      ]
     },
     "execution_count": 13,
     "metadata": {},
     "output_type": "execute_result"
    }
   ],
   "source": [
    "categoricals = [x for x in df.columns if df[x].dtype == \"object\"]\n",
    "for feat in categoricals:\n",
    "    lab = LabelEncoder()\n",
    "    lab.fit(list(df[feat].values))\n",
    "    df[feat] = lab.transform(list(df[feat].values))\n",
    "df.head()"
   ]
  },
  {
   "cell_type": "markdown",
   "metadata": {},
   "source": [
    "&ensp;&ensp;**<font size=3 face=\"宋体\">这样就将类别型数据转化为了数值型数据</font>**"
   ]
  },
  {
   "cell_type": "markdown",
   "metadata": {},
   "source": [
    "&ensp;&ensp;**<font color=red size=4 face=\"宋体\">分割数据集</font>**<br>\n",
    "\n",
    "&ensp;&ensp;**<font size=3 face=\"宋体\">分离数据的特征和要预测的目标，再将整个数据集分为训练集和测试集</font>**"
   ]
  },
  {
   "cell_type": "code",
   "execution_count": 14,
   "metadata": {
    "collapsed": true
   },
   "outputs": [],
   "source": [
    "# 特征X\n",
    "X = df.iloc[:, 1:]\n",
    "# 预测类别y\n",
    "y = df.iloc[:, 0]"
   ]
  },
  {
   "cell_type": "code",
   "execution_count": 15,
   "metadata": {
    "collapsed": true
   },
   "outputs": [],
   "source": [
    "X_train, X_test, y_train, y_test = train_test_split(X, y, test_size=.2, random_state=0)"
   ]
  },
  {
   "cell_type": "markdown",
   "metadata": {},
   "source": [
    "**<font size=5 face=\"宋体\">(三)、构建逻辑回归模型</font>**"
   ]
  },
  {
   "cell_type": "markdown",
   "metadata": {
    "collapsed": true
   },
   "source": [
    "&ensp;&ensp;**<font color=red size=4 face=\"宋体\">首先，我们使用缺省的逻辑回归预测</font>**"
   ]
  },
  {
   "cell_type": "code",
   "execution_count": 16,
   "metadata": {},
   "outputs": [
    {
     "data": {
      "text/plain": [
       "LogisticRegression(C=1.0, class_weight=None, dual=False, fit_intercept=True,\n",
       "          intercept_scaling=1, max_iter=100, multi_class='ovr', n_jobs=1,\n",
       "          penalty='l2', random_state=None, solver='liblinear', tol=0.0001,\n",
       "          verbose=0, warm_start=False)"
      ]
     },
     "execution_count": 16,
     "metadata": {},
     "output_type": "execute_result"
    }
   ],
   "source": [
    "LR = LogisticRegression()\n",
    "LR.fit(X_train, y_train)"
   ]
  },
  {
   "cell_type": "markdown",
   "metadata": {},
   "source": [
    "&ensp;&ensp;**<font color=red size=4 face=\"宋体\">缺省的逻辑回归的准确性</font>**"
   ]
  },
  {
   "cell_type": "code",
   "execution_count": 17,
   "metadata": {},
   "outputs": [
    {
     "name": "stdout",
     "output_type": "stream",
     "text": [
      "缺省的逻辑回归模型在测试集上的性能得分为0.9231\n"
     ]
    }
   ],
   "source": [
    "score = LR.score(X_test, y_test)\n",
    "print(\"缺省的逻辑回归模型在测试集上的性能得分为%.4f\" % score)"
   ]
  },
  {
   "cell_type": "markdown",
   "metadata": {},
   "source": [
    "&ensp;&ensp;**<font color=red size=4 face=\"宋体\">缺省的逻辑回归的精度和召回率</font>**"
   ]
  },
  {
   "cell_type": "code",
   "execution_count": 18,
   "metadata": {},
   "outputs": [
    {
     "name": "stdout",
     "output_type": "stream",
     "text": [
      "             precision    recall  f1-score   support\n",
      "\n",
      "     Horned       0.67      1.00      0.80         2\n",
      "     Polled       1.00      0.91      0.95        11\n",
      "\n",
      "avg / total       0.95      0.92      0.93        13\n",
      "\n"
     ]
    }
   ],
   "source": [
    "prediction = LR.predict(X_test)\n",
    "print(classification_report(y_test, prediction, target_names=[\"Horned\", \"Polled\"]))"
   ]
  },
  {
   "cell_type": "markdown",
   "metadata": {},
   "source": [
    "&ensp;&ensp;**<font color=red size=4 face=\"宋体\">使用ROC曲线检验模型性能</font>**"
   ]
  },
  {
   "cell_type": "code",
   "execution_count": 19,
   "metadata": {},
   "outputs": [
    {
     "name": "stdout",
     "output_type": "stream",
     "text": [
      "逻辑回归模型的AUC值为0.9545\n"
     ]
    }
   ],
   "source": [
    "pred = LR.predict(X_test)\n",
    "fpr, tpr, _ = roc_curve(y_test, pred)\n",
    "auc = auc(fpr, tpr)\n",
    "print(\"逻辑回归模型的AUC值为%.4f\" % auc)"
   ]
  },
  {
   "cell_type": "markdown",
   "metadata": {},
   "source": [
    "&ensp;&ensp;**<font color=red size=4 face=\"宋体\">可视化ROC曲线</font>**"
   ]
  },
  {
   "cell_type": "code",
   "execution_count": 20,
   "metadata": {},
   "outputs": [
    {
     "data": {
      "image/png": "[encoded data removed]",
      "text/plain": [
       "<Figure size 720x720 with 1 Axes>"
      ]
     },
     "metadata": {},
     "output_type": "display_data"
    }
   ],
   "source": [
    "plt.rcParams[\"font.sans-serif\"]=[\"SimHei\"]\n",
    "# 创建一个图形框\n",
    "fig = plt.figure(figsize=(6, 6), dpi=120)\n",
    "# 在图形框里只画一幅图\n",
    "ax = fig.add_subplot(1, 1, 1)\n",
    "# 在Matplotlib中显示中文，需要使用unicode\n",
    "ax.set_title(\"%s\" % u\"ROC曲线\")\n",
    "ax.set_xlabel(\"伪阳性率（False positive rate）\")\n",
    "ax.set_ylabel(\"真阳性率（True positive rate）\")\n",
    "ax.plot([0, 1], [0, 1], \"r--\")\n",
    "ax.set_xlim([0, 1])\n",
    "ax.set_ylim([0, 1])\n",
    "ax.plot(fpr, tpr, \"k\", label=\"%s; %s = %0.2f\" % (u\"ROC曲线\",\n",
    "        u\"曲线下面积（AUC）\", auc))\n",
    "ax.fill_between(fpr, tpr, color=\"grey\", alpha=0.6)\n",
    "legend = plt.legend(shadow=True)\n",
    "# plt.savefig(\"ROC.png\")"
   ]
  },
  {
   "cell_type": "markdown",
   "metadata": {},
   "source": [
    "&ensp;&ensp;**<font color=red size=4 face=\"宋体\">然后，我们再通过gridsearchCV进行调参</font>**"
   ]
  },
  {
   "cell_type": "code",
   "execution_count": 21,
   "metadata": {},
   "outputs": [
    {
     "data": {
      "text/plain": [
       "GridSearchCV(cv=5, error_score='raise',\n",
       "       estimator=LogisticRegression(C=1.0, class_weight=None, dual=False, fit_intercept=True,\n",
       "          intercept_scaling=1, max_iter=100, multi_class='ovr', n_jobs=1,\n",
       "          penalty='l2', random_state=None, solver='liblinear', tol=0.0001,\n",
       "          verbose=0, warm_start=False),\n",
       "       fit_params=None, iid=True, n_jobs=1,\n",
       "       param_grid={'penalty': ['l1', 'l2'], 'C': [0.0001, 0.001, 0.01, 0.1, 1, 10, 100, 1000]},\n",
       "       pre_dispatch='2*n_jobs', refit=True, return_train_score='warn',\n",
       "       scoring=None, verbose=0)"
      ]
     },
     "execution_count": 21,
     "metadata": {},
     "output_type": "execute_result"
    }
   ],
   "source": [
    "#需要调优的参数\n",
    "# 请尝试将L1正则和L2正则分开，并配合合适的优化求解算法（slover）\n",
    "#tuned_parameters = {'penalty':['l1','l2'],\n",
    "#                   'C': [0.001, 0.01, 0.1, 1, 10, 100, 1000]\n",
    "#                   }\n",
    "penaltys = ['l1','l2']\n",
    "Cs = [0.0001, 0.001, 0.01, 0.1, 1, 10, 100, 1000]\n",
    "tuned_parameters = dict(penalty = penaltys, C = Cs)\n",
    "\n",
    "lr_penalty= LogisticRegression()\n",
    "grid= GridSearchCV(lr_penalty, tuned_parameters,cv=5)\n",
    "grid.fit(X_train,y_train)"
   ]
  },
  {
   "cell_type": "code",
   "execution_count": 22,
   "metadata": {},
   "outputs": [
    {
     "name": "stdout",
     "output_type": "stream",
     "text": [
      "最佳正则化类型：l1，\n",
      "最佳正则化系数：100。\n"
     ]
    }
   ],
   "source": [
    "print(\"最佳正则化类型：%s，\\n最佳正则化系数：%d。\" % (grid.best_params_[\"penalty\"], grid.best_params_[\"C\"]))"
   ]
  },
  {
   "cell_type": "markdown",
   "metadata": {},
   "source": [
    "&ensp;&ensp;**<font color=red size=4 face=\"宋体\">得到最佳参数后，我再带入逻辑回归模型</font>**"
   ]
  },
  {
   "cell_type": "code",
   "execution_count": 23,
   "metadata": {},
   "outputs": [
    {
     "data": {
      "text/plain": [
       "LogisticRegression(C=10, class_weight=None, dual=False, fit_intercept=True,\n",
       "          intercept_scaling=1, max_iter=100, multi_class='ovr', n_jobs=1,\n",
       "          penalty='l1', random_state=None, solver='liblinear', tol=0.0001,\n",
       "          verbose=0, warm_start=False)"
      ]
     },
     "execution_count": 23,
     "metadata": {},
     "output_type": "execute_result"
    }
   ],
   "source": [
    "model_1 = LogisticRegression(penalty=\"l1\", C=10)\n",
    "model_1.fit(X_train, y_train)"
   ]
  },
  {
   "cell_type": "markdown",
   "metadata": {},
   "source": [
    "&ensp;&ensp;**<font color=red size=4 face=\"宋体\">带参数的逻辑回归模型准确性</font>**"
   ]
  },
  {
   "cell_type": "code",
   "execution_count": 24,
   "metadata": {},
   "outputs": [
    {
     "name": "stdout",
     "output_type": "stream",
     "text": [
      "带参数的逻辑回归模型在测试集上的性能得分为1.0000\n"
     ]
    }
   ],
   "source": [
    "score = model_1.score(X_test, y_test)\n",
    "print(\"带参数的逻辑回归模型在测试集上的性能得分为%.4f\" % score)"
   ]
  },
  {
   "cell_type": "markdown",
   "metadata": {},
   "source": [
    "&ensp;&ensp;**<font size=3 face=\"宋体\">带参数的逻辑回归模型准确性比缺省的逻辑回归模型好一些，在测试集上已经达到了1。</font>**<br>\n",
    "\n",
    "&ensp;&ensp;**<font size=3 face=\"宋体\">我们除了可以调整参数使模型的性能增强，同时，也可以增加模型复杂度。下面我们就将增加模型的复杂度，从而增加模型的性能。</font>**<br>"
   ]
  },
  {
   "cell_type": "markdown",
   "metadata": {},
   "source": [
    "**<font size=5 face=\"宋体\">(四)、构建支持向量机模型</font>**"
   ]
  },
  {
   "cell_type": "code",
   "execution_count": 25,
   "metadata": {
    "collapsed": true
   },
   "outputs": [],
   "source": [
    "from sklearn.svm import SVC\n",
    "from sklearn import metrics\n",
    "import matplotlib as mpl\n",
    "from sklearn import metrics"
   ]
  },
  {
   "cell_type": "code",
   "execution_count": 26,
   "metadata": {},
   "outputs": [
    {
     "data": {
      "text/plain": [
       "SVC(C=1.0, cache_size=200, class_weight=None, coef0=0.0,\n",
       "  decision_function_shape='ovr', degree=3, gamma='auto', kernel='rbf',\n",
       "  max_iter=-1, probability=False, random_state=None, shrinking=True,\n",
       "  tol=0.001, verbose=False)"
      ]
     },
     "execution_count": 26,
     "metadata": {},
     "output_type": "execute_result"
    }
   ],
   "source": [
    "svc = SVC()\n",
    "svc.fit(X_train, y_train)"
   ]
  },
  {
   "cell_type": "code",
   "execution_count": 27,
   "metadata": {},
   "outputs": [
    {
     "name": "stdout",
     "output_type": "stream",
     "text": [
      "缺省的支持向量机模型在测试集上的性能得分为1.0000\n"
     ]
    }
   ],
   "source": [
    "score = svc.score(X_test, y_test)\n",
    "print(\"缺省的支持向量机模型在测试集上的性能得分为%.4f\" % score)"
   ]
  },
  {
   "cell_type": "markdown",
   "metadata": {},
   "source": [
    "&ensp;&ensp;**<font size=3 face=\"宋体\">我们可以看出增加了模型的复杂度，性能也提升了。</font>**"
   ]
  },
  {
   "cell_type": "markdown",
   "metadata": {},
   "source": [
    "&ensp;&ensp;**<font color=red size=4 face=\"宋体\">可视化混淆矩阵</font>**"
   ]
  },
  {
   "cell_type": "code",
   "execution_count": 28,
   "metadata": {},
   "outputs": [
    {
     "data": {
      "text/plain": [
       "Text(49.9878,0.5,'真实值（True value）')"
      ]
     },
     "execution_count": 28,
     "metadata": {},
     "output_type": "execute_result"
    },
    {
     "data": {
      "image/png": "[encoded data removed]",
      "text/plain": [
       "<Figure size 600x600 with 1 Axes>"
      ]
     },
     "metadata": {},
     "output_type": "display_data"
    }
   ],
   "source": [
    "plt.rcParams[\"font.sans-serif\"]=[\"SimHei\"]\n",
    "mpl.rcParams['xtick.labelsize'] = 12\n",
    "mpl.rcParams['ytick.labelsize'] = 12\n",
    "mpl.rcParams['axes.labelsize'] = 14\n",
    "mpl.rcParams['font.size'] = 11\n",
    "mpl.rcParams['font.weight'] = 'bold'\n",
    "mpl.rcParams['font.family'] = 'SimHei'\n",
    "\n",
    "# 创建一个图形框\n",
    "fig = plt.figure(figsize=(6, 6), dpi=100)\n",
    "# 在图形框里只画一幅图\n",
    "ax = fig.add_subplot(1, 1, 1)\n",
    "y_predict = svc.predict(X_test)\n",
    "met = metrics.confusion_matrix(y_test, y_predict)\n",
    "sns.heatmap(met, square=True, annot=True, cbar=False, cmap=\"Reds\", ax=ax, xticklabels=[\"有角\", \"无角\"], yticklabels=[\"有角\", \"无角\"])\n",
    "plt.xlabel(\"预测值（Predicted value）\")\n",
    "plt.ylabel(\"真实值（True value）\")"
   ]
  },
  {
   "cell_type": "markdown",
   "metadata": {},
   "source": [
    "&ensp;&ensp;**<font color=red size=4 face=\"宋体\">缺省的支持向量机模型的精度和召回率</font>**"
   ]
  },
  {
   "cell_type": "code",
   "execution_count": 29,
   "metadata": {},
   "outputs": [
    {
     "name": "stdout",
     "output_type": "stream",
     "text": [
      "             precision    recall  f1-score   support\n",
      "\n",
      "     Horned       1.00      1.00      1.00         2\n",
      "     Polled       1.00      1.00      1.00        11\n",
      "\n",
      "avg / total       1.00      1.00      1.00        13\n",
      "\n"
     ]
    }
   ],
   "source": [
    "print(classification_report(y_test, y_predict, target_names=[\"Horned\", \"Polled\"]))"
   ]
  },
  {
   "cell_type": "markdown",
   "metadata": {},
   "source": [
    "&ensp;&ensp;**<font color=red size=4 face=\"宋体\">使用ROC曲线检验模型性能</font>**"
   ]
  },
  {
   "cell_type": "code",
   "execution_count": 30,
   "metadata": {},
   "outputs": [
    {
     "data": {
      "text/plain": [
       "1.0"
      ]
     },
     "execution_count": 30,
     "metadata": {},
     "output_type": "execute_result"
    }
   ],
   "source": [
    "pred = svc.predict(X_test).astype(\"float64\")\n",
    "fpr, tpr, _ = roc_curve(y_test, pred)\n",
    "auc = metrics.auc(fpr, tpr)\n",
    "auc"
   ]
  },
  {
   "cell_type": "markdown",
   "metadata": {},
   "source": [
    "&ensp;&ensp;**<font color=red size=4 face=\"宋体\">可视化ROC曲线</font>**"
   ]
  },
  {
   "cell_type": "code",
   "execution_count": 31,
   "metadata": {},
   "outputs": [
    {
     "data": {
      "image/png": "[encoded data removed]",
      "text/plain": [
       "<Figure size 720x720 with 1 Axes>"
      ]
     },
     "metadata": {},
     "output_type": "display_data"
    }
   ],
   "source": [
    "plt.rcParams[\"font.sans-serif\"]=[\"SimHei\"]\n",
    "# 创建一个图形框\n",
    "fig = plt.figure(figsize=(6, 6), dpi=120)\n",
    "# 在图形框里只画一幅图\n",
    "ax = fig.add_subplot(1, 1, 1)\n",
    "# 在Matplotlib中显示中文，需要使用unicode\n",
    "ax.set_title(\"%s\" % u\"ROC曲线\")\n",
    "ax.set_xlabel(\"伪阳性率（False positive rate）\")\n",
    "ax.set_ylabel(\"真阳性率（True positive rate）\")\n",
    "ax.plot([0, 1], [0, 1], \"r--\")\n",
    "ax.set_xlim([0, 1])\n",
    "ax.set_ylim([0, 1])\n",
    "ax.plot(fpr, tpr, \"k\", label=\"%s; %s = %0.2f\" % (u\"ROC曲线\",\n",
    "        u\"曲线下面积（AUC）\", auc))\n",
    "ax.fill_between(fpr, tpr, color=\"grey\", alpha=0.6)\n",
    "legend = plt.legend(shadow=True)\n",
    "# plt.savefig(\"ROC.png\")"
   ]
  },
  {
   "cell_type": "markdown",
   "metadata": {},
   "source": [
    "**<font size=5 face=\"宋体\">(五)、构建决策树模型选择特征</font>**"
   ]
  },
  {
   "cell_type": "code",
   "execution_count": 32,
   "metadata": {},
   "outputs": [
    {
     "data": {
      "text/plain": [
       "DecisionTreeClassifier(class_weight=None, criterion='gini', max_depth=None,\n",
       "            max_features=None, max_leaf_nodes=None,\n",
       "            min_impurity_decrease=0.0, min_impurity_split=None,\n",
       "            min_samples_leaf=1, min_samples_split=2,\n",
       "            min_weight_fraction_leaf=0.0, presort=False, random_state=None,\n",
       "            splitter='best')"
      ]
     },
     "execution_count": 32,
     "metadata": {},
     "output_type": "execute_result"
    }
   ],
   "source": [
    "from sklearn.tree import DecisionTreeClassifier\n",
    "model_tree = DecisionTreeClassifier()\n",
    "model_tree.fit(X_train, y_train)"
   ]
  },
  {
   "cell_type": "markdown",
   "metadata": {},
   "source": [
    "&ensp;&ensp;**<font color=red size=4 face=\"宋体\">缺省的决策树模型的准确性</font>**"
   ]
  },
  {
   "cell_type": "code",
   "execution_count": 33,
   "metadata": {},
   "outputs": [
    {
     "data": {
      "text/plain": [
       "1.0"
      ]
     },
     "execution_count": 33,
     "metadata": {},
     "output_type": "execute_result"
    }
   ],
   "source": [
    "y_prob = model_tree.predict_proba(X_test)[:,1]\n",
    "y_pred = np.where(y_prob > 0.5, 1, 0)\n",
    "model_tree.score(X_test, y_pred)"
   ]
  },
  {
   "cell_type": "markdown",
   "metadata": {},
   "source": [
    "&ensp;&ensp;**<font size=3 face=\"宋体\">树模型可以直接使用类别型数据，做特征选择。</font>**<br>\n",
    "\n",
    "&ensp;&ensp;**<font size=3 face=\"宋体\">因此，我们在这里可以利用这点特征选择出真正与牛角性状相关联的突变</font>**"
   ]
  },
  {
   "cell_type": "markdown",
   "metadata": {},
   "source": [
    "&ensp;&ensp;**<font color=red size=4 face=\"宋体\">特征选择</font>**"
   ]
  },
  {
   "cell_type": "code",
   "execution_count": 34,
   "metadata": {},
   "outputs": [
    {
     "data": {
      "text/html": [
       "<div>\n",
       "<style scoped>\n",
       "    .dataframe tbody tr th:only-of-type {\n",
       "        vertical-align: middle;\n",
       "    }\n",
       "\n",
       "    .dataframe tbody tr th {\n",
       "        vertical-align: top;\n",
       "    }\n",
       "\n",
       "    .dataframe thead th {\n",
       "        text-align: right;\n",
       "    }\n",
       "</style>\n",
       "<table border=\"1\" class=\"dataframe\">\n",
       "  <thead>\n",
       "    <tr style=\"text-align: right;\">\n",
       "      <th></th>\n",
       "      <th>Horn</th>\n",
       "      <th>P202ID</th>\n",
       "      <th>P80kbID</th>\n",
       "      <th>P219ID</th>\n",
       "      <th>P5ID</th>\n",
       "      <th>PG1855898A</th>\n",
       "      <th>PC1768587A</th>\n",
       "      <th>PG1654405A</th>\n",
       "    </tr>\n",
       "  </thead>\n",
       "  <tbody>\n",
       "    <tr>\n",
       "      <th>0</th>\n",
       "      <td>Polled</td>\n",
       "      <td>W/M</td>\n",
       "      <td>W/W</td>\n",
       "      <td>W/W</td>\n",
       "      <td>W/W</td>\n",
       "      <td>G/G</td>\n",
       "      <td>C/C</td>\n",
       "      <td>G/G</td>\n",
       "    </tr>\n",
       "    <tr>\n",
       "      <th>1</th>\n",
       "      <td>Polled</td>\n",
       "      <td>W/M</td>\n",
       "      <td>W/W</td>\n",
       "      <td>W/W</td>\n",
       "      <td>W/W</td>\n",
       "      <td>G/G</td>\n",
       "      <td>C/C</td>\n",
       "      <td>G/G</td>\n",
       "    </tr>\n",
       "    <tr>\n",
       "      <th>2</th>\n",
       "      <td>Polled</td>\n",
       "      <td>W/M</td>\n",
       "      <td>W/W</td>\n",
       "      <td>W/W</td>\n",
       "      <td>W/W</td>\n",
       "      <td>G/G</td>\n",
       "      <td>C/C</td>\n",
       "      <td>G/G</td>\n",
       "    </tr>\n",
       "    <tr>\n",
       "      <th>3</th>\n",
       "      <td>Polled</td>\n",
       "      <td>W/W</td>\n",
       "      <td>W/W</td>\n",
       "      <td>W/M</td>\n",
       "      <td>W/W</td>\n",
       "      <td>G/G</td>\n",
       "      <td>C/C</td>\n",
       "      <td>G/G</td>\n",
       "    </tr>\n",
       "    <tr>\n",
       "      <th>4</th>\n",
       "      <td>Polled</td>\n",
       "      <td>W/M</td>\n",
       "      <td>W/W</td>\n",
       "      <td>W/W</td>\n",
       "      <td>W/W</td>\n",
       "      <td>G/G</td>\n",
       "      <td>C/C</td>\n",
       "      <td>G/G</td>\n",
       "    </tr>\n",
       "  </tbody>\n",
       "</table>\n",
       "</div>"
      ],
      "text/plain": [
       "     Horn P202ID P80kbID P219ID P5ID PG1855898A PC1768587A PG1654405A\n",
       "0  Polled    W/M     W/W    W/W  W/W        G/G        C/C        G/G\n",
       "1  Polled    W/M     W/W    W/W  W/W        G/G        C/C        G/G\n",
       "2  Polled    W/M     W/W    W/W  W/W        G/G        C/C        G/G\n",
       "3  Polled    W/W     W/W    W/M  W/W        G/G        C/C        G/G\n",
       "4  Polled    W/M     W/W    W/W  W/W        G/G        C/C        G/G"
      ]
     },
     "execution_count": 34,
     "metadata": {},
     "output_type": "execute_result"
    }
   ],
   "source": [
    "data_ = data.drop([\"Sample IDs\", \"Month\", \"Sex\", \"D-loop\"], axis=1)\n",
    "data_.loc[data_[\"P202ID\"] == \"M/M\", \"P202ID\"] = \"W/M\"\n",
    "data_.loc[data_[\"PG1654405A\"] == \"A/A\", \"PG1654405A\"] = \"G/A\"\n",
    "data_.head()"
   ]
  },
  {
   "cell_type": "code",
   "execution_count": 35,
   "metadata": {
    "collapsed": true
   },
   "outputs": [],
   "source": [
    "data_feature_name = data_.columns[1:]\n",
    "data_target_name = np.unique(data_[\"Horn\"])"
   ]
  },
  {
   "cell_type": "code",
   "execution_count": 36,
   "metadata": {},
   "outputs": [
    {
     "data": {
      "text/plain": [
       "DecisionTreeClassifier(class_weight=None, criterion='gini', max_depth=None,\n",
       "            max_features=None, max_leaf_nodes=None,\n",
       "            min_impurity_decrease=0.0, min_impurity_split=None,\n",
       "            min_samples_leaf=1, min_samples_split=2,\n",
       "            min_weight_fraction_leaf=0.0, presort=False, random_state=None,\n",
       "            splitter='best')"
      ]
     },
     "execution_count": 36,
     "metadata": {},
     "output_type": "execute_result"
    }
   ],
   "source": [
    "model_tree_ = DecisionTreeClassifier()\n",
    "model_tree_.fit(X, y)"
   ]
  },
  {
   "cell_type": "code",
   "execution_count": 37,
   "metadata": {},
   "outputs": [
    {
     "data": {
      "text/plain": [
       "Index(['P202ID', 'P80kbID', 'P219ID', 'P5ID', 'PG1855898A', 'PC1768587A',\n",
       "       'PG1654405A'],\n",
       "      dtype='object')"
      ]
     },
     "execution_count": 37,
     "metadata": {},
     "output_type": "execute_result"
    }
   ],
   "source": [
    "X_train.columns"
   ]
  },
  {
   "cell_type": "code",
   "execution_count": 38,
   "metadata": {
    "collapsed": true
   },
   "outputs": [],
   "source": [
    "impro = pd.DataFrame({\"Feature\": X_train.columns, \"Importance\": list(model_tree.feature_importances_.tolist())})"
   ]
  },
  {
   "cell_type": "code",
   "execution_count": 39,
   "metadata": {},
   "outputs": [
    {
     "data": {
      "text/html": [
       "<div>\n",
       "<style scoped>\n",
       "    .dataframe tbody tr th:only-of-type {\n",
       "        vertical-align: middle;\n",
       "    }\n",
       "\n",
       "    .dataframe tbody tr th {\n",
       "        vertical-align: top;\n",
       "    }\n",
       "\n",
       "    .dataframe thead th {\n",
       "        text-align: right;\n",
       "    }\n",
       "</style>\n",
       "<table border=\"1\" class=\"dataframe\">\n",
       "  <thead>\n",
       "    <tr style=\"text-align: right;\">\n",
       "      <th></th>\n",
       "      <th>Feature</th>\n",
       "      <th>Importance</th>\n",
       "    </tr>\n",
       "  </thead>\n",
       "  <tbody>\n",
       "    <tr>\n",
       "      <th>0</th>\n",
       "      <td>P202ID</td>\n",
       "      <td>0.549242</td>\n",
       "    </tr>\n",
       "    <tr>\n",
       "      <th>2</th>\n",
       "      <td>P219ID</td>\n",
       "      <td>0.284091</td>\n",
       "    </tr>\n",
       "    <tr>\n",
       "      <th>1</th>\n",
       "      <td>P80kbID</td>\n",
       "      <td>0.166667</td>\n",
       "    </tr>\n",
       "    <tr>\n",
       "      <th>3</th>\n",
       "      <td>P5ID</td>\n",
       "      <td>0.000000</td>\n",
       "    </tr>\n",
       "    <tr>\n",
       "      <th>4</th>\n",
       "      <td>PG1855898A</td>\n",
       "      <td>0.000000</td>\n",
       "    </tr>\n",
       "    <tr>\n",
       "      <th>5</th>\n",
       "      <td>PC1768587A</td>\n",
       "      <td>0.000000</td>\n",
       "    </tr>\n",
       "    <tr>\n",
       "      <th>6</th>\n",
       "      <td>PG1654405A</td>\n",
       "      <td>0.000000</td>\n",
       "    </tr>\n",
       "  </tbody>\n",
       "</table>\n",
       "</div>"
      ],
      "text/plain": [
       "      Feature  Importance\n",
       "0      P202ID    0.549242\n",
       "2      P219ID    0.284091\n",
       "1     P80kbID    0.166667\n",
       "3        P5ID    0.000000\n",
       "4  PG1855898A    0.000000\n",
       "5  PC1768587A    0.000000\n",
       "6  PG1654405A    0.000000"
      ]
     },
     "execution_count": 39,
     "metadata": {},
     "output_type": "execute_result"
    }
   ],
   "source": [
    "impro.sort_values(by=\"Importance\", ascending=False)"
   ]
  },
  {
   "cell_type": "markdown",
   "metadata": {},
   "source": [
    "&ensp;&ensp;**<font color=red size=4 face=\"宋体\">可视化树模型</font>**"
   ]
  },
  {
   "cell_type": "code",
   "execution_count": 40,
   "metadata": {},
   "outputs": [
    {
     "data": {
      "text/plain": [
       "True"
      ]
     },
     "execution_count": 40,
     "metadata": {},
     "output_type": "execute_result"
    }
   ],
   "source": [
    "import graphviz\n",
    "import pydotplus\n",
    "from sklearn import tree\n",
    "from IPython.display import Image\n",
    "import os\n",
    "os.environ[\"PATH\"] += os.pathsep + 'C:/Program Files (x86)/Graphviz2.38/bin/'\n",
    "dot_tree = tree.export_graphviz(model_tree_,out_file=None,feature_names=data_feature_name,class_names=data_target_name,filled=True, rounded=True,special_characters=True)\n",
    "graph = pydotplus.graph_from_dot_data(dot_tree)\n",
    "img = Image(graph.create_png())\n",
    "graph.write_png(\"result.png\")"
   ]
  },
  {
   "cell_type": "markdown",
   "metadata": {},
   "source": [
    "<img src=\"./result.png\", width=320, heigth=240>"
   ]
  },
  {
   "cell_type": "markdown",
   "metadata": {
    "collapsed": true
   },
   "source": [
    "&ensp;&ensp;&ensp;&ensp;**<font size=3 face=\"宋体\">最终，我们可以看到决策树选择了P202ID、P219ID和P80kbID这三个突变，恰好这三个突变正是决定牛角性状的候选突变位点。</font>**<br>\n",
    "\n",
    "&ensp;&ensp;&ensp;&ensp;**<font size=3 face=\"宋体\">因此，事实证明我们使用的机器学习模型也可以用于选择与性状相关联的突变位点或基因。使用这种方法我们会更加节约成本、提高效率，并且这也是未来基因或位点检测的主要研究方向</font>**"
   ]
  },
  {
   "cell_type": "code",
   "execution_count": null,
   "metadata": {
    "collapsed": true
   },
   "outputs": [],
   "source": []
  }
 ],
 "metadata": {
  "kernelspec": {
   "display_name": "Python 3",
   "language": "python",
   "name": "python3"
  },
  "language_info": {
   "codemirror_mode": {
    "name": "ipython",
    "version": 3
   },
   "file_extension": ".py",
   "mimetype": "text/x-python",
   "name": "python",
   "nbconvert_exporter": "python",
   "pygments_lexer": "ipython3",
   "version": "3.6.1"
  }
 },
 "nbformat": 4,
 "nbformat_minor": 2
}
